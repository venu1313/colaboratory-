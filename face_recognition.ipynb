{
  "nbformat": 4,
  "nbformat_minor": 0,
  "metadata": {
    "colab": {
      "name": "face_recognition.ipynb",
      "provenance": [],
      "authorship_tag": "ABX9TyOgW9APAj6cslGZpTOjQpsW",
      "include_colab_link": true
    },
    "kernelspec": {
      "name": "python3",
      "display_name": "Python 3"
    },
    "accelerator": "GPU"
  },
  "cells": [
    {
      "cell_type": "markdown",
      "metadata": {
        "id": "view-in-github",
        "colab_type": "text"
      },
      "source": [
        "<a href=\"https://colab.research.google.com/github/venu1313/colaboratory-/blob/master/face_recognition.ipynb\" target=\"_parent\"><img src=\"https://colab.research.google.com/assets/colab-badge.svg\" alt=\"Open In Colab\"/></a>"
      ]
    },
    {
      "cell_type": "code",
      "metadata": {
        "id": "e7jX3DxJUVHD",
        "colab_type": "code",
        "colab": {
          "base_uri": "https://localhost:8080/",
          "height": 309
        },
        "outputId": "69966c1c-2df0-4d8c-dfb9-caf324bd1ef7"
      },
      "source": [
        "!pip install face_recognition"
      ],
      "execution_count": null,
      "outputs": [
        {
          "output_type": "stream",
          "text": [
            "Collecting face_recognition\n",
            "  Downloading https://files.pythonhosted.org/packages/1e/95/f6c9330f54ab07bfa032bf3715c12455a381083125d8880c43cbe76bb3d0/face_recognition-1.3.0-py2.py3-none-any.whl\n",
            "Collecting face-recognition-models>=0.3.0\n",
            "\u001b[?25l  Downloading https://files.pythonhosted.org/packages/cf/3b/4fd8c534f6c0d1b80ce0973d01331525538045084c73c153ee6df20224cf/face_recognition_models-0.3.0.tar.gz (100.1MB)\n",
            "\u001b[K     |████████████████████████████████| 100.2MB 43kB/s \n",
            "\u001b[?25hRequirement already satisfied: dlib>=19.7 in /usr/local/lib/python3.6/dist-packages (from face_recognition) (19.18.0)\n",
            "Requirement already satisfied: Pillow in /usr/local/lib/python3.6/dist-packages (from face_recognition) (7.0.0)\n",
            "Requirement already satisfied: Click>=6.0 in /usr/local/lib/python3.6/dist-packages (from face_recognition) (7.1.2)\n",
            "Requirement already satisfied: numpy in /usr/local/lib/python3.6/dist-packages (from face_recognition) (1.18.5)\n",
            "Building wheels for collected packages: face-recognition-models\n",
            "  Building wheel for face-recognition-models (setup.py) ... \u001b[?25l\u001b[?25hdone\n",
            "  Created wheel for face-recognition-models: filename=face_recognition_models-0.3.0-py2.py3-none-any.whl size=100566173 sha256=5e1ccfc103f5e3cd4a7277e003b2991a8776d17a6186730141751a17d0bb4ace\n",
            "  Stored in directory: /root/.cache/pip/wheels/d2/99/18/59c6c8f01e39810415c0e63f5bede7d83dfb0ffc039865465f\n",
            "Successfully built face-recognition-models\n",
            "Installing collected packages: face-recognition-models, face-recognition\n",
            "Successfully installed face-recognition-1.3.0 face-recognition-models-0.3.0\n"
          ],
          "name": "stdout"
        }
      ]
    },
    {
      "cell_type": "code",
      "metadata": {
        "id": "O242jgHiVRjg",
        "colab_type": "code",
        "colab": {}
      },
      "source": [
        "import cv2\n",
        "import face_recognition"
      ],
      "execution_count": null,
      "outputs": []
    },
    {
      "cell_type": "code",
      "metadata": {
        "id": "vnXEATYCVs_D",
        "colab_type": "code",
        "colab": {
          "base_uri": "https://localhost:8080/",
          "height": 54
        },
        "outputId": "8d00f6c0-e746-4e86-cfb4-af2911aaa715"
      },
      "source": [
        "print(dir(face_recognition))"
      ],
      "execution_count": null,
      "outputs": [
        {
          "output_type": "stream",
          "text": [
            "['__author__', '__builtins__', '__cached__', '__doc__', '__email__', '__file__', '__loader__', '__name__', '__package__', '__path__', '__spec__', '__version__', 'api', 'batch_face_locations', 'compare_faces', 'face_distance', 'face_encodings', 'face_landmarks', 'face_locations', 'load_image_file']\n"
          ],
          "name": "stdout"
        }
      ]
    },
    {
      "cell_type": "code",
      "metadata": {
        "id": "K9-JYt1ReIjD",
        "colab_type": "code",
        "colab": {}
      },
      "source": [
        "img1 = face_recognition.load_image_file(\"2.jpg\")\n",
        "img2 = face_recognition.load_image_file(\"image.jpg\")"
      ],
      "execution_count": null,
      "outputs": []
    },
    {
      "cell_type": "code",
      "metadata": {
        "id": "skG6Dk0Rege3",
        "colab_type": "code",
        "colab": {
          "base_uri": "https://localhost:8080/",
          "height": 54
        },
        "outputId": "c05af07e-11ac-478a-a469-17be27ff76f3"
      },
      "source": [
        "print(face_recognition.face_landmarks(img1))"
      ],
      "execution_count": null,
      "outputs": [
        {
          "output_type": "stream",
          "text": [
            "[{'chin': [(106, 87), (107, 99), (108, 111), (109, 123), (113, 134), (120, 143), (130, 151), (143, 157), (156, 158), (167, 155), (176, 147), (183, 139), (187, 129), (189, 119), (191, 109), (191, 100), (191, 90)], 'left_eyebrow': [(120, 82), (127, 77), (135, 75), (143, 76), (151, 79)], 'right_eyebrow': [(167, 79), (173, 77), (179, 77), (185, 79), (188, 84)], 'nose_bridge': [(159, 87), (160, 93), (161, 100), (162, 107)], 'nose_tip': [(150, 113), (155, 114), (160, 115), (163, 114), (167, 113)], 'left_eye': [(130, 87), (136, 85), (141, 85), (145, 88), (141, 89), (135, 89)], 'right_eye': [(167, 89), (172, 86), (177, 86), (181, 89), (177, 90), (172, 90)], 'top_lip': [(136, 123), (146, 123), (154, 123), (158, 124), (163, 123), (168, 124), (173, 124), (171, 125), (163, 126), (158, 126), (154, 126), (139, 124)], 'bottom_lip': [(173, 124), (168, 128), (163, 130), (158, 131), (153, 130), (145, 129), (136, 123), (139, 124), (153, 126), (158, 127), (163, 126), (171, 125)]}]\n"
          ],
          "name": "stdout"
        }
      ]
    },
    {
      "cell_type": "code",
      "metadata": {
        "id": "92GKzuVvezTF",
        "colab_type": "code",
        "colab": {
          "base_uri": "https://localhost:8080/",
          "height": 34
        },
        "outputId": "f3d895d5-0096-4d7f-c3c8-dbab99bb0794"
      },
      "source": [
        "print(face_recognition.face_locations(img1))"
      ],
      "execution_count": null,
      "outputs": [
        {
          "output_type": "stream",
          "text": [
            "[(66, 195, 156, 106)]\n"
          ],
          "name": "stdout"
        }
      ]
    },
    {
      "cell_type": "code",
      "metadata": {
        "id": "dsZMUXIte56n",
        "colab_type": "code",
        "colab": {
          "base_uri": "https://localhost:8080/",
          "height": 459
        },
        "outputId": "3ccd6c1f-69b3-4eb8-9e7b-53ea291a2407"
      },
      "source": [
        "print(face_recognition.face_encodings(img1))"
      ],
      "execution_count": null,
      "outputs": [
        {
          "output_type": "stream",
          "text": [
            "[array([-0.08155922,  0.19168073,  0.03753082,  0.03288637, -0.13271672,\n",
            "        0.05438078, -0.03028861, -0.04648055,  0.07104751, -0.00933935,\n",
            "        0.29111463, -0.07709963, -0.24935646, -0.16825241,  0.12019289,\n",
            "        0.0835819 , -0.08921661, -0.09183789, -0.10659406, -0.0352805 ,\n",
            "        0.03162698,  0.1195374 ,  0.04567732,  0.0566999 , -0.18423781,\n",
            "       -0.41439754, -0.01562112, -0.07044127, -0.01706925, -0.19315924,\n",
            "       -0.03744113,  0.18309203, -0.14168672, -0.09560343,  0.04747144,\n",
            "        0.15323205, -0.10434899, -0.0438004 ,  0.17819355, -0.02621135,\n",
            "       -0.11189254,  0.08020769,  0.04649287,  0.32594475,  0.18592265,\n",
            "       -0.02633402,  0.05530932, -0.02651652,  0.14054888, -0.23319653,\n",
            "        0.03936043,  0.16880213,  0.07265745,  0.05737996,  0.15392794,\n",
            "       -0.13614208, -0.05068576,  0.17782365, -0.11344913,  0.09772529,\n",
            "        0.01006606, -0.05910271, -0.02541812, -0.13462397,  0.16375436,\n",
            "        0.06959809, -0.03778622, -0.15053988,  0.06315218, -0.07594012,\n",
            "       -0.11908483,  0.17408538, -0.16057365, -0.21819976, -0.21295169,\n",
            "        0.10049512,  0.32775897,  0.12062465, -0.27352381,  0.01282929,\n",
            "        0.05386304, -0.02899537,  0.11607239,  0.04125376, -0.02405955,\n",
            "       -0.06373157, -0.1381871 ,  0.07218928,  0.25531569,  0.02271292,\n",
            "       -0.06135295,  0.27089331,  0.03981758,  0.05950145,  0.12590633,\n",
            "       -0.07350466, -0.02692319,  0.00525612, -0.1727505 , -0.01130949,\n",
            "        0.07268243, -0.19034906, -0.07623814,  0.05707154, -0.12811145,\n",
            "        0.15468544,  0.00987447,  0.09702735,  0.01555994, -0.02192288,\n",
            "       -0.14575684,  0.07152313,  0.20121269, -0.32429814,  0.22421497,\n",
            "        0.10572169,  0.00534033,  0.13003759,  0.07977961,  0.07864279,\n",
            "        0.00539735, -0.01192914, -0.15019669, -0.07754204,  0.1478564 ,\n",
            "       -0.00931571,  0.01780949, -0.01342873])]\n"
          ],
          "name": "stdout"
        }
      ]
    },
    {
      "cell_type": "code",
      "metadata": {
        "id": "An3pGQ3bfF6w",
        "colab_type": "code",
        "colab": {}
      },
      "source": [
        "img1_enc = face_recognition.face_encodings(img1)[0]\n",
        "img2_enc = face_recognition.face_encodings(img2)[0]"
      ],
      "execution_count": null,
      "outputs": []
    },
    {
      "cell_type": "code",
      "metadata": {
        "id": "2TkRQztSfUaT",
        "colab_type": "code",
        "colab": {
          "base_uri": "https://localhost:8080/",
          "height": 51
        },
        "outputId": "7d688e68-a210-4707-a262-6adda7a981f2"
      },
      "source": [
        "print(face_recognition.face_distance([img1_enc],img2_enc))\n",
        "print(face_recognition.face_distance([img1_enc],img1_enc))"
      ],
      "execution_count": null,
      "outputs": [
        {
          "output_type": "stream",
          "text": [
            "[1.06186369]\n",
            "[0.]\n"
          ],
          "name": "stdout"
        }
      ]
    },
    {
      "cell_type": "code",
      "metadata": {
        "id": "VK3D6czqlqvO",
        "colab_type": "code",
        "colab": {
          "base_uri": "https://localhost:8080/",
          "height": 34
        },
        "outputId": "3fb065db-2df0-40c8-8da1-315b95bcd028"
      },
      "source": [
        "print(face_recognition.compare_faces([img1_enc],img2_enc))"
      ],
      "execution_count": null,
      "outputs": [
        {
          "output_type": "stream",
          "text": [
            "[False]\n"
          ],
          "name": "stdout"
        }
      ]
    }
  ]
}