{
  "nbformat": 4,
  "nbformat_minor": 0,
  "metadata": {
    "colab": {
      "name": "Counting people.ipynb",
      "provenance": [],
      "include_colab_link": true
    },
    "kernelspec": {
      "name": "python3",
      "display_name": "Python 3"
    },
    "accelerator": "GPU"
  },
  "cells": [
    {
      "cell_type": "markdown",
      "metadata": {
        "id": "view-in-github",
        "colab_type": "text"
      },
      "source": [
        "<a href=\"https://colab.research.google.com/github/venu1313/colaboratory-/blob/master/Counting_people.ipynb\" target=\"_parent\"><img src=\"https://colab.research.google.com/assets/colab-badge.svg\" alt=\"Open In Colab\"/></a>"
      ]
    },
    {
      "cell_type": "code",
      "metadata": {
        "id": "KTRZMPXoNLQd",
        "colab_type": "code",
        "colab": {
          "base_uri": "https://localhost:8080/",
          "height": 309
        },
        "outputId": "1877c165-41df-421c-938f-4f4260e53150"
      },
      "source": [
        "!pip install face_recognition"
      ],
      "execution_count": 1,
      "outputs": [
        {
          "output_type": "stream",
          "text": [
            "Collecting face_recognition\n",
            "  Downloading https://files.pythonhosted.org/packages/1e/95/f6c9330f54ab07bfa032bf3715c12455a381083125d8880c43cbe76bb3d0/face_recognition-1.3.0-py2.py3-none-any.whl\n",
            "Requirement already satisfied: Pillow in /usr/local/lib/python3.6/dist-packages (from face_recognition) (7.0.0)\n",
            "Collecting face-recognition-models>=0.3.0\n",
            "\u001b[?25l  Downloading https://files.pythonhosted.org/packages/cf/3b/4fd8c534f6c0d1b80ce0973d01331525538045084c73c153ee6df20224cf/face_recognition_models-0.3.0.tar.gz (100.1MB)\n",
            "\u001b[K     |████████████████████████████████| 100.2MB 75kB/s \n",
            "\u001b[?25hRequirement already satisfied: Click>=6.0 in /usr/local/lib/python3.6/dist-packages (from face_recognition) (7.1.2)\n",
            "Requirement already satisfied: numpy in /usr/local/lib/python3.6/dist-packages (from face_recognition) (1.18.5)\n",
            "Requirement already satisfied: dlib>=19.7 in /usr/local/lib/python3.6/dist-packages (from face_recognition) (19.18.0)\n",
            "Building wheels for collected packages: face-recognition-models\n",
            "  Building wheel for face-recognition-models (setup.py) ... \u001b[?25l\u001b[?25hdone\n",
            "  Created wheel for face-recognition-models: filename=face_recognition_models-0.3.0-py2.py3-none-any.whl size=100566173 sha256=9936c35efe8395162bfe207257dd941f3ef6e07807778c372e7549eed409c295\n",
            "  Stored in directory: /root/.cache/pip/wheels/d2/99/18/59c6c8f01e39810415c0e63f5bede7d83dfb0ffc039865465f\n",
            "Successfully built face-recognition-models\n",
            "Installing collected packages: face-recognition-models, face-recognition\n",
            "Successfully installed face-recognition-1.3.0 face-recognition-models-0.3.0\n"
          ],
          "name": "stdout"
        }
      ]
    },
    {
      "cell_type": "code",
      "metadata": {
        "id": "qBUjjLQqOHld",
        "colab_type": "code",
        "colab": {}
      },
      "source": [
        "from PIL import Image\n",
        "import PIL.ImageDraw\n",
        "import requests\n",
        "from io import BytesIO\n",
        " \n",
        "from IPython.display import display\n",
        "from google.colab.patches import cv2_imshow\n",
        " \n",
        "import face_recognition"
      ],
      "execution_count": 2,
      "outputs": []
    },
    {
      "cell_type": "code",
      "metadata": {
        "id": "4sm-vjJBOO64",
        "colab_type": "code",
        "colab": {
          "base_uri": "https://localhost:8080/",
          "height": 34
        },
        "outputId": "9c839324-12e8-45d7-8e94-e55aee8a382b"
      },
      "source": [
        "response = requests.get(\"https://cdn-5d0b8444f911d10dc8cfba51.closte.com/wp-content/uploads/sites/101/2017/04/KenMar-Photography-Inc-Family-StumpfAnnTom-Fam-9097-1024x662.jpg\")\n",
        "fr_image = face_recognition.load_image_file(BytesIO(response.content))\n",
        "fr_image.shape"
      ],
      "execution_count": 5,
      "outputs": [
        {
          "output_type": "execute_result",
          "data": {
            "text/plain": [
              "(662, 1024, 3)"
            ]
          },
          "metadata": {
            "tags": []
          },
          "execution_count": 5
        }
      ]
    },
    {
      "cell_type": "code",
      "metadata": {
        "id": "vNDFwAe3OpM3",
        "colab_type": "code",
        "colab": {
          "base_uri": "https://localhost:8080/",
          "height": 34
        },
        "outputId": "6ec8c909-d746-4e4f-9afa-7b15c5729744"
      },
      "source": [
        "face_locations = face_recognition.face_locations(fr_image)\n",
        " \n",
        "number_of_faces = len(face_locations)\n",
        "print(\"I found {} face(s) in this photograph.\".format(number_of_faces))"
      ],
      "execution_count": 6,
      "outputs": [
        {
          "output_type": "stream",
          "text": [
            "I found 41 face(s) in this photograph.\n"
          ],
          "name": "stdout"
        }
      ]
    },
    {
      "cell_type": "code",
      "metadata": {
        "id": "rsuHP2--r8Vv",
        "colab_type": "code",
        "colab": {
          "base_uri": "https://localhost:8080/",
          "height": 714
        },
        "outputId": "486eeaa3-97c6-44a7-e6d5-0667d6bbe769"
      },
      "source": [
        "i = 0\n",
        "for face_location in face_locations:\n",
        "  #print(face_location)\n",
        "  top,right,bottom,left=face_location\n",
        "  print(\"A face is located at pixel location Top: {}, left: {}, bottom: {}, right: {}\".format(top,left,bottom,right))\n",
        "  face_image=fr_image[top:bottom,left:right] \n",
        "  pil_image=Image.fromarray(face_image)\n",
        "  filename = \"image\"+str(i)+\".jpg\"\n",
        "  pil_image.save(filename)\n",
        "  i = i+1"
      ],
      "execution_count": 7,
      "outputs": [
        {
          "output_type": "stream",
          "text": [
            "A face is located at pixel location Top: 434, left: 429, bottom: 470, right: 465\n",
            "A face is located at pixel location Top: 338, left: 441, bottom: 374, right: 477\n",
            "A face is located at pixel location Top: 110, left: 597, bottom: 146, right: 633\n",
            "A face is located at pixel location Top: 138, left: 501, bottom: 174, right: 537\n",
            "A face is located at pixel location Top: 444, left: 333, bottom: 487, right: 376\n",
            "A face is located at pixel location Top: 202, left: 365, bottom: 238, right: 401\n",
            "A face is located at pixel location Top: 138, left: 685, bottom: 174, right: 721\n",
            "A face is located at pixel location Top: 426, left: 681, bottom: 462, right: 717\n",
            "A face is located at pixel location Top: 228, left: 165, bottom: 271, right: 208\n",
            "A face is located at pixel location Top: 166, left: 657, bottom: 202, right: 693\n",
            "A face is located at pixel location Top: 134, left: 413, bottom: 170, right: 449\n",
            "A face is located at pixel location Top: 178, left: 733, bottom: 214, right: 769\n",
            "A face is located at pixel location Top: 122, left: 293, bottom: 158, right: 329\n",
            "A face is located at pixel location Top: 186, left: 453, bottom: 222, right: 489\n",
            "A face is located at pixel location Top: 354, left: 569, bottom: 390, right: 605\n",
            "A face is located at pixel location Top: 274, left: 685, bottom: 310, right: 721\n",
            "A face is located at pixel location Top: 174, left: 285, bottom: 210, right: 321\n",
            "A face is located at pixel location Top: 228, left: 784, bottom: 271, right: 828\n",
            "A face is located at pixel location Top: 154, left: 217, bottom: 190, right: 253\n",
            "A face is located at pixel location Top: 218, left: 709, bottom: 254, right: 745\n",
            "A face is located at pixel location Top: 250, left: 465, bottom: 286, right: 501\n",
            "A face is located at pixel location Top: 410, left: 741, bottom: 446, right: 777\n",
            "A face is located at pixel location Top: 166, left: 561, bottom: 202, right: 597\n",
            "A face is located at pixel location Top: 442, left: 545, bottom: 478, right: 581\n",
            "A face is located at pixel location Top: 170, left: 818, bottom: 214, right: 861\n",
            "A face is located at pixel location Top: 310, left: 601, bottom: 346, right: 637\n",
            "A face is located at pixel location Top: 258, left: 337, bottom: 294, right: 373\n",
            "A face is located at pixel location Top: 202, left: 605, bottom: 238, right: 641\n",
            "A face is located at pixel location Top: 422, left: 149, bottom: 458, right: 185\n",
            "A face is located at pixel location Top: 114, left: 745, bottom: 150, right: 781\n",
            "A face is located at pixel location Top: 228, left: 525, bottom: 271, right: 568\n",
            "A face is located at pixel location Top: 298, left: 185, bottom: 334, right: 221\n",
            "A face is located at pixel location Top: 218, left: 419, bottom: 262, right: 463\n",
            "A face is located at pixel location Top: 242, left: 266, bottom: 286, right: 309\n",
            "A face is located at pixel location Top: 290, left: 753, bottom: 326, right: 789\n",
            "A face is located at pixel location Top: 362, left: 228, bottom: 406, right: 271\n",
            "A face is located at pixel location Top: 146, left: 337, bottom: 182, right: 373\n",
            "A face is located at pixel location Top: 334, left: 505, bottom: 370, right: 541\n",
            "A face is located at pixel location Top: 342, left: 329, bottom: 378, right: 365\n",
            "A face is located at pixel location Top: 318, left: 653, bottom: 354, right: 689\n",
            "A face is located at pixel location Top: 206, left: 501, bottom: 242, right: 537\n"
          ],
          "name": "stdout"
        }
      ]
    },
    {
      "cell_type": "code",
      "metadata": {
        "id": "2qpRjlkzQj-t",
        "colab_type": "code",
        "colab": {
          "base_uri": "https://localhost:8080/",
          "height": 34
        },
        "outputId": "c5813395-c61d-4ac4-d1b9-c960c85a7ca1"
      },
      "source": [
        "response1 = requests.get(\"https://upload.wikimedia.org/wikipedia/commons/thumb/e/e2/MEASO_2018_Group_Photo.jpg/1024px-MEASO_2018_Group_Photo.jpg\") #https://upload.wikimedia.org/wikipedia/commons/e/e2/MEASO_2018_Group_Photo.jpg\") #https://upload.wikimedia.org/wikipedia/commons/1/10/Wmcon2012_group_photo.jpg\")\n",
        "fr_image1 = face_recognition.load_image_file(BytesIO(response1.content))\n",
        "fr_image1.shape"
      ],
      "execution_count": 8,
      "outputs": [
        {
          "output_type": "execute_result",
          "data": {
            "text/plain": [
              "(694, 1024, 3)"
            ]
          },
          "metadata": {
            "tags": []
          },
          "execution_count": 8
        }
      ]
    },
    {
      "cell_type": "code",
      "metadata": {
        "id": "cRbW1swJRHUb",
        "colab_type": "code",
        "colab": {
          "base_uri": "https://localhost:8080/",
          "height": 51
        },
        "outputId": "dbed5f2a-7247-4b81-b428-514664603cfc"
      },
      "source": [
        "face_locations = face_recognition.face_locations(fr_image1)\n",
        "number_of_faces = len(face_locations)\n",
        "print(\"I found {} face(s) in this photograph.\".format(number_of_faces))\n",
        "\n",
        "face_locations1 = face_recognition.api.face_locations(fr_image1, model='small')\n",
        "number_of_faces1 = len(face_locations1)\n",
        "print(\"I found {} face(s) in this photograph.\".format(number_of_faces1))\n"
      ],
      "execution_count": 9,
      "outputs": [
        {
          "output_type": "stream",
          "text": [
            "I found 11 face(s) in this photograph.\n",
            "I found 11 face(s) in this photograph.\n"
          ],
          "name": "stdout"
        }
      ]
    },
    {
      "cell_type": "code",
      "metadata": {
        "id": "uT2YjRaRQ8DP",
        "colab_type": "code",
        "colab": {
          "base_uri": "https://localhost:8080/",
          "height": 34
        },
        "outputId": "68523a9e-bb24-4a50-930a-d13b8ba7079f"
      },
      "source": [
        "face_locations2 = face_recognition.api.face_locations(fr_image1, model='hog')\n",
        "number_of_faces2 = len(face_locations2)\n",
        "print(\"I found {} face(s) in this photograph.\".format(number_of_faces2))"
      ],
      "execution_count": 10,
      "outputs": [
        {
          "output_type": "stream",
          "text": [
            "I found 11 face(s) in this photograph.\n"
          ],
          "name": "stdout"
        }
      ]
    },
    {
      "cell_type": "code",
      "metadata": {
        "id": "uqCS-XdaShsQ",
        "colab_type": "code",
        "colab": {
          "base_uri": "https://localhost:8080/",
          "height": 34
        },
        "outputId": "06d8c51f-28b1-463f-f8d4-02752c7d966d"
      },
      "source": [
        "face_locations3 = face_recognition.api.face_locations(fr_image1, model='large')\n",
        "number_of_faces3 = len(face_locations3)\n",
        "print(\"I found {} face(s) in this photograph.\".format(number_of_faces3))"
      ],
      "execution_count": 11,
      "outputs": [
        {
          "output_type": "stream",
          "text": [
            "I found 11 face(s) in this photograph.\n"
          ],
          "name": "stdout"
        }
      ]
    },
    {
      "cell_type": "code",
      "metadata": {
        "id": "fuzFIo8MTDTu",
        "colab_type": "code",
        "colab": {
          "base_uri": "https://localhost:8080/",
          "height": 34
        },
        "outputId": "9526e93c-431f-47cd-c521-192be61164ee"
      },
      "source": [
        "face_locations4 = face_recognition.api.face_locations(fr_image1,number_of_times_to_upsample=4,model='hog')\n",
        "number_of_faces4 = len(face_locations4)\n",
        "print(\"I found {} face(s) in this photograph.\".format(number_of_faces))"
      ],
      "execution_count": 12,
      "outputs": [
        {
          "output_type": "stream",
          "text": [
            "I found 11 face(s) in this photograph.\n"
          ],
          "name": "stdout"
        }
      ]
    },
    {
      "cell_type": "code",
      "metadata": {
        "id": "7YX_PjWVRka5",
        "colab_type": "code",
        "colab": {}
      },
      "source": [
        "import cv2\n",
        "response1 = requests.get(\"https://upload.wikimedia.org/wikipedia/commons/thumb/e/e2/MEASO_2018_Group_Photo.jpg/1024px-MEASO_2018_Group_Photo.jpg\") #https://upload.wikimedia.org/wikipedia/commons/thumb/1/10/Wmcon2012_group_photo.jpg/1280px-Wmcon2012_group_photo.jpg\")\n",
        "f_image1 = face_recognition.load_image_file(BytesIO(response1.content))\n",
        "f_image1.shape\n",
        "f_image2 = cv2.resize(f_image1,(1388,2048))"
      ],
      "execution_count": 13,
      "outputs": []
    },
    {
      "cell_type": "code",
      "metadata": {
        "id": "ONzxyWSoRmYT",
        "colab_type": "code",
        "colab": {
          "base_uri": "https://localhost:8080/",
          "height": 51
        },
        "outputId": "3a10ac16-ff7a-4986-ebe8-1468ed22b867"
      },
      "source": [
        "face_locations = face_recognition.face_locations(f_image1)\n",
        "number_of_faces = len(face_locations)\n",
        "print(\"I found {} face(s) in this photograph.\".format(number_of_faces))\n",
        "\n",
        "face_locations1 = face_recognition.face_locations(f_image2)\n",
        "number_of_faces1 = len(face_locations1)\n",
        "print(\"I found {} face(s) in this photograph.\".format(number_of_faces1))\n",
        "\n"
      ],
      "execution_count": 14,
      "outputs": [
        {
          "output_type": "stream",
          "text": [
            "I found 11 face(s) in this photograph.\n",
            "I found 21 face(s) in this photograph.\n"
          ],
          "name": "stdout"
        }
      ]
    },
    {
      "cell_type": "code",
      "metadata": {
        "id": "eqlCygtlhebL",
        "colab_type": "code",
        "colab": {
          "base_uri": "https://localhost:8080/",
          "height": 34
        },
        "outputId": "074d58e7-536a-42e2-c777-321fe7a22d8b"
      },
      "source": [
        "face_locations2 = face_recognition.api.face_locations(f_image1,number_of_times_to_upsample=4, model='small')\n",
        "number_of_faces2 = len(face_locations2)\n",
        "print(\"I found {} face(s) in this photograph.\".format(number_of_faces2))\n"
      ],
      "execution_count": 15,
      "outputs": [
        {
          "output_type": "stream",
          "text": [
            "I found 139 face(s) in this photograph.\n"
          ],
          "name": "stdout"
        }
      ]
    },
    {
      "cell_type": "code",
      "metadata": {
        "id": "Gi3_PJzeU7Tu",
        "colab_type": "code",
        "colab": {
          "base_uri": "https://localhost:8080/",
          "height": 34
        },
        "outputId": "2d9f857f-b5fe-4573-872b-acc5a25b6493"
      },
      "source": [
        "biggroup1 = cv2.resize(f_image1,(1388,2048))\n",
        "face_locations = face_recognition.face_locations(biggroup1)\n",
        "number_of_faces = len(face_locations)\n",
        "print(\"I found {} face(s) in this photograph.\".format(number_of_faces))"
      ],
      "execution_count": 16,
      "outputs": [
        {
          "output_type": "stream",
          "text": [
            "I found 21 face(s) in this photograph.\n"
          ],
          "name": "stdout"
        }
      ]
    },
    {
      "cell_type": "code",
      "metadata": {
        "id": "NcVoAPNqVWNP",
        "colab_type": "code",
        "colab": {
          "base_uri": "https://localhost:8080/",
          "height": 34
        },
        "outputId": "fde4eb01-38f6-4c46-a365-d328df2cba28"
      },
      "source": [
        "biggroup2 = cv2.resize(f_image1,(2082,3072))\n",
        "face_locations = face_recognition.face_locations(biggroup2)\n",
        "number_of_faces = len(face_locations)\n",
        "print(\"I found {} face(s) in this photograph.\".format(number_of_faces))"
      ],
      "execution_count": 17,
      "outputs": [
        {
          "output_type": "stream",
          "text": [
            "I found 35 face(s) in this photograph.\n"
          ],
          "name": "stdout"
        }
      ]
    },
    {
      "cell_type": "code",
      "metadata": {
        "id": "FBm1LumYVeyr",
        "colab_type": "code",
        "colab": {
          "base_uri": "https://localhost:8080/",
          "height": 34
        },
        "outputId": "a8f32bfb-021b-4387-8c7a-107a6f90fd96"
      },
      "source": [
        "biggroup3 = cv2.resize(f_image1,(2776,4096))\n",
        "face_locations = face_recognition.face_locations(biggroup3)\n",
        "number_of_faces = len(face_locations)\n",
        "print(\"I found {} face(s) in this photograph.\".format(number_of_faces))"
      ],
      "execution_count": 18,
      "outputs": [
        {
          "output_type": "stream",
          "text": [
            "I found 32 face(s) in this photograph.\n"
          ],
          "name": "stdout"
        }
      ]
    },
    {
      "cell_type": "code",
      "metadata": {
        "id": "YO3gLUlmVvhF",
        "colab_type": "code",
        "colab": {
          "base_uri": "https://localhost:8080/",
          "height": 35
        },
        "outputId": "03db292d-b9a9-4398-b176-3cb4d8be2185"
      },
      "source": [
        "biggroup4 = cv2.resize(f_image1,(3470,5120))\n",
        "face_locations = face_recognition.face_locations(biggroup4)\n",
        "number_of_faces = len(face_locations)\n",
        "print(\"I found {} face(s) in this photograph.\".format(number_of_faces))"
      ],
      "execution_count": 19,
      "outputs": [
        {
          "output_type": "stream",
          "text": [
            "I found 33 face(s) in this photograph.\n"
          ],
          "name": "stdout"
        }
      ]
    },
    {
      "cell_type": "code",
      "metadata": {
        "id": "l3jwnWnzWH-p",
        "colab_type": "code",
        "colab": {
          "base_uri": "https://localhost:8080/",
          "height": 35
        },
        "outputId": "cfe94c5e-f3a7-419e-fadd-686d0ac4fdaa"
      },
      "source": [
        "face_locations5 = face_recognition.api.face_locations(f_image1,number_of_times_to_upsample=4, model='hog')\n",
        "number_of_faces5 = len(face_locations5)\n",
        "print(\"I found {} face(s) in this photograph.\".format(number_of_faces5))"
      ],
      "execution_count": 20,
      "outputs": [
        {
          "output_type": "stream",
          "text": [
            "I found 139 face(s) in this photograph.\n"
          ],
          "name": "stdout"
        }
      ]
    },
    {
      "cell_type": "code",
      "metadata": {
        "id": "G0JIUCpXg_sr",
        "colab_type": "code",
        "colab": {
          "base_uri": "https://localhost:8080/",
          "height": 35
        },
        "outputId": "c23714e7-3f0d-4508-a2c6-0bfa0d56326d"
      },
      "source": [
        "face_locations3 = face_recognition.api.face_locations(f_image2,number_of_times_to_upsample=4, model='large')\n",
        "number_of_faces3 = len(face_locations2)\n",
        "print(\"I found {} face(s) in this photograph.\".format(number_of_faces3))"
      ],
      "execution_count": 21,
      "outputs": [
        {
          "output_type": "stream",
          "text": [
            "I found 139 face(s) in this photograph.\n"
          ],
          "name": "stdout"
        }
      ]
    },
    {
      "cell_type": "code",
      "metadata": {
        "id": "woKRy8LkooOr",
        "colab_type": "code",
        "colab": {
          "base_uri": "https://localhost:8080/",
          "height": 35
        },
        "outputId": "dd10da6e-081b-45d4-9336-2c4b29c220ea"
      },
      "source": [
        "face_locations6 = face_recognition.api.face_locations(f_image2,model='cnn')\n",
        "number_of_faces4 = len(face_locations4)\n",
        "print(\"I found {} face(s) in this photograph.\".format(number_of_faces4))"
      ],
      "execution_count": 22,
      "outputs": [
        {
          "output_type": "stream",
          "text": [
            "I found 139 face(s) in this photograph.\n"
          ],
          "name": "stdout"
        }
      ]
    }
  ]
}